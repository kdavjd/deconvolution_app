{
 "cells": [
  {
   "cell_type": "code",
   "execution_count": 1,
   "metadata": {},
   "outputs": [],
   "source": [
    "import seaborn as sns\n",
    "import pandas as pd\n",
    "import matplotlib.pyplot as plt"
   ]
  },
  {
   "cell_type": "code",
   "execution_count": 28,
   "metadata": {},
   "outputs": [
    {
     "data": {
      "text/html": [
       "<div>\n",
       "<style scoped>\n",
       "    .dataframe tbody tr th:only-of-type {\n",
       "        vertical-align: middle;\n",
       "    }\n",
       "\n",
       "    .dataframe tbody tr th {\n",
       "        vertical-align: top;\n",
       "    }\n",
       "\n",
       "    .dataframe thead th {\n",
       "        text-align: right;\n",
       "    }\n",
       "</style>\n",
       "<table border=\"1\" class=\"dataframe\">\n",
       "  <thead>\n",
       "    <tr style=\"text-align: right;\">\n",
       "      <th></th>\n",
       "      <th>temperature</th>\n",
       "      <th>rate_5</th>\n",
       "      <th>rate_3</th>\n",
       "      <th>rate_10</th>\n",
       "      <th>rate_3_diff</th>\n",
       "      <th>rate_5_diff</th>\n",
       "      <th>rate_10_diff</th>\n",
       "    </tr>\n",
       "  </thead>\n",
       "  <tbody>\n",
       "    <tr>\n",
       "      <th>0</th>\n",
       "      <td>31.23291</td>\n",
       "      <td>100.48009</td>\n",
       "      <td>99.46380</td>\n",
       "      <td>99.62310</td>\n",
       "      <td>0.000000</td>\n",
       "      <td>0.000000</td>\n",
       "      <td>0.000000</td>\n",
       "    </tr>\n",
       "    <tr>\n",
       "      <th>1</th>\n",
       "      <td>32.18783</td>\n",
       "      <td>100.49841</td>\n",
       "      <td>99.47196</td>\n",
       "      <td>99.63159</td>\n",
       "      <td>0.000000</td>\n",
       "      <td>0.000000</td>\n",
       "      <td>0.000000</td>\n",
       "    </tr>\n",
       "    <tr>\n",
       "      <th>2</th>\n",
       "      <td>33.14274</td>\n",
       "      <td>100.49727</td>\n",
       "      <td>99.46862</td>\n",
       "      <td>99.64153</td>\n",
       "      <td>0.000000</td>\n",
       "      <td>0.000000</td>\n",
       "      <td>0.000000</td>\n",
       "    </tr>\n",
       "    <tr>\n",
       "      <th>3</th>\n",
       "      <td>34.09766</td>\n",
       "      <td>100.49974</td>\n",
       "      <td>99.46740</td>\n",
       "      <td>99.65072</td>\n",
       "      <td>0.000000</td>\n",
       "      <td>0.000000</td>\n",
       "      <td>0.000000</td>\n",
       "    </tr>\n",
       "    <tr>\n",
       "      <th>4</th>\n",
       "      <td>35.05257</td>\n",
       "      <td>100.50067</td>\n",
       "      <td>99.46966</td>\n",
       "      <td>99.66333</td>\n",
       "      <td>0.000000</td>\n",
       "      <td>0.000000</td>\n",
       "      <td>0.000000</td>\n",
       "    </tr>\n",
       "    <tr>\n",
       "      <th>...</th>\n",
       "      <td>...</td>\n",
       "      <td>...</td>\n",
       "      <td>...</td>\n",
       "      <td>...</td>\n",
       "      <td>...</td>\n",
       "      <td>...</td>\n",
       "      <td>...</td>\n",
       "    </tr>\n",
       "    <tr>\n",
       "      <th>485</th>\n",
       "      <td>494.36669</td>\n",
       "      <td>0.54784</td>\n",
       "      <td>-0.35920</td>\n",
       "      <td>0.25374</td>\n",
       "      <td>0.000099</td>\n",
       "      <td>0.008912</td>\n",
       "      <td>0.000749</td>\n",
       "    </tr>\n",
       "    <tr>\n",
       "      <th>486</th>\n",
       "      <td>495.32160</td>\n",
       "      <td>0.53527</td>\n",
       "      <td>-0.35239</td>\n",
       "      <td>0.25189</td>\n",
       "      <td>-0.003644</td>\n",
       "      <td>0.007964</td>\n",
       "      <td>0.001754</td>\n",
       "    </tr>\n",
       "    <tr>\n",
       "      <th>487</th>\n",
       "      <td>496.27652</td>\n",
       "      <td>0.53263</td>\n",
       "      <td>-0.35224</td>\n",
       "      <td>0.25039</td>\n",
       "      <td>-0.000099</td>\n",
       "      <td>-0.002508</td>\n",
       "      <td>0.000785</td>\n",
       "    </tr>\n",
       "    <tr>\n",
       "      <th>488</th>\n",
       "      <td>497.23143</td>\n",
       "      <td>0.54006</td>\n",
       "      <td>-0.35220</td>\n",
       "      <td>0.25039</td>\n",
       "      <td>0.004854</td>\n",
       "      <td>-0.004346</td>\n",
       "      <td>-0.000000</td>\n",
       "    </tr>\n",
       "    <tr>\n",
       "      <th>489</th>\n",
       "      <td>498.18635</td>\n",
       "      <td>0.54093</td>\n",
       "      <td>-0.36151</td>\n",
       "      <td>0.25039</td>\n",
       "      <td>0.009750</td>\n",
       "      <td>-0.000911</td>\n",
       "      <td>-0.000000</td>\n",
       "    </tr>\n",
       "  </tbody>\n",
       "</table>\n",
       "<p>490 rows × 7 columns</p>\n",
       "</div>"
      ],
      "text/plain": [
       "     temperature     rate_5    rate_3   rate_10  rate_3_diff  rate_5_diff  \\\n",
       "0       31.23291  100.48009  99.46380  99.62310     0.000000     0.000000   \n",
       "1       32.18783  100.49841  99.47196  99.63159     0.000000     0.000000   \n",
       "2       33.14274  100.49727  99.46862  99.64153     0.000000     0.000000   \n",
       "3       34.09766  100.49974  99.46740  99.65072     0.000000     0.000000   \n",
       "4       35.05257  100.50067  99.46966  99.66333     0.000000     0.000000   \n",
       "..           ...        ...       ...       ...          ...          ...   \n",
       "485    494.36669    0.54784  -0.35920   0.25374     0.000099     0.008912   \n",
       "486    495.32160    0.53527  -0.35239   0.25189    -0.003644     0.007964   \n",
       "487    496.27652    0.53263  -0.35224   0.25039    -0.000099    -0.002508   \n",
       "488    497.23143    0.54006  -0.35220   0.25039     0.004854    -0.004346   \n",
       "489    498.18635    0.54093  -0.36151   0.25039     0.009750    -0.000911   \n",
       "\n",
       "     rate_10_diff  \n",
       "0        0.000000  \n",
       "1        0.000000  \n",
       "2        0.000000  \n",
       "3        0.000000  \n",
       "4        0.000000  \n",
       "..            ...  \n",
       "485      0.000749  \n",
       "486      0.001754  \n",
       "487      0.000785  \n",
       "488     -0.000000  \n",
       "489     -0.000000  \n",
       "\n",
       "[490 rows x 7 columns]"
      ]
     },
     "execution_count": 28,
     "metadata": {},
     "output_type": "execute_result"
    }
   ],
   "source": [
    "df = pd.read_csv('data/NH4_deconvoluated_TGA.csv')\n",
    "df.drop(['rate_3_diff_reaction_0',\n",
    "       'rate_3_diff_reaction_1', 'rate_3_diff_cumulative',\n",
    "       'rate_5_diff_reaction_0', 'rate_5_diff_reaction_1',\n",
    "       'rate_5_diff_cumulative', 'rate_10_diff_reaction_0',\n",
    "       'rate_10_diff_reaction_1', 'rate_10_diff_cumulative'], axis=1, inplace=True)\n",
    "df"
   ]
  },
  {
   "cell_type": "code",
   "execution_count": 13,
   "metadata": {},
   "outputs": [],
   "source": [
    "df = pd.read_csv('experiment_results.csv')\n",
    "df['coefficient_1'] = df['coefficient_1'].round(4)\n",
    "df['coefficient_2'] = df['coefficient_2'].round(4)"
   ]
  },
  {
   "cell_type": "code",
   "execution_count": 14,
   "metadata": {},
   "outputs": [
    {
     "data": {
      "image/png": "[encoded data removed]",
      "text/plain": [
       "<Figure size 1000x800 with 2 Axes>"
      ]
     },
     "metadata": {},
     "output_type": "display_data"
    }
   ],
   "source": [
    "# Преобразование данных в форму, подходящую для тепловой карты\n",
    "heatmap_data = df.pivot(index='coefficient_1', columns='coefficient_2', values='rmse')\n",
    "\n",
    "# Построение тепловой карты\n",
    "plt.figure(figsize=(10, 8))\n",
    "sns.heatmap(heatmap_data, cmap='viridis')\n",
    "plt.title('Тепловая карта значений RMSE от значения коэффициентов')\n",
    "plt.show()"
   ]
  },
  {
   "cell_type": "code",
   "execution_count": 27,
   "metadata": {},
   "outputs": [
    {
     "data": {
      "image/png": "[encoded data removed]",
      "text/plain": [
       "<Figure size 1000x800 with 2 Axes>"
      ]
     },
     "metadata": {},
     "output_type": "display_data"
    }
   ],
   "source": [
    "top_100 = df.sort_values(by='rmse').head(250)\n",
    "\n",
    "\n",
    "# Преобразование данных в форму, подходящую для тепловой карты\n",
    "heatmap_data = top_100.pivot(index='coefficient_1', columns='coefficient_2', values='rmse')\n",
    "\n",
    "# Построение тепловой карты\n",
    "plt.figure(figsize=(10, 8))\n",
    "sns.heatmap(heatmap_data, cmap='viridis')\n",
    "plt.title('Тепловая карта значений RMSE от значения коэффициентов')\n",
    "plt.show()"
   ]
  },
  {
   "cell_type": "code",
   "execution_count": 3,
   "metadata": {},
   "outputs": [
    {
     "data": {
      "text/plain": [
       "True"
      ]
     },
     "metadata": {},
     "output_type": "display_data"
    },
    {
     "data": {
      "text/plain": [
       "4"
      ]
     },
     "execution_count": 3,
     "metadata": {},
     "output_type": "execute_result"
    }
   ],
   "source": [
    "_df = pd.DataFrame()\n",
    "display(_df.size == 0)\n",
    "_df['gauss'] = [0, 1]\n",
    "_df['frazer'] = [2, 3]\n",
    "_df.size"
   ]
  },
  {
   "cell_type": "code",
   "execution_count": 1,
   "metadata": {},
   "outputs": [
    {
     "data": {
      "text/html": [
       "<div>\n",
       "<style scoped>\n",
       "    .dataframe tbody tr th:only-of-type {\n",
       "        vertical-align: middle;\n",
       "    }\n",
       "\n",
       "    .dataframe tbody tr th {\n",
       "        vertical-align: top;\n",
       "    }\n",
       "\n",
       "    .dataframe thead th {\n",
       "        text-align: right;\n",
       "    }\n",
       "</style>\n",
       "<table border=\"1\" class=\"dataframe\">\n",
       "  <thead>\n",
       "    <tr style=\"text-align: right;\">\n",
       "      <th></th>\n",
       "      <th>temperature</th>\n",
       "      <th>rate_5</th>\n",
       "      <th>rate_3</th>\n",
       "      <th>rate_10</th>\n",
       "      <th>rate_3_diff</th>\n",
       "      <th>rate_5_diff</th>\n",
       "      <th>rate_10_diff</th>\n",
       "    </tr>\n",
       "  </thead>\n",
       "  <tbody>\n",
       "    <tr>\n",
       "      <th>0</th>\n",
       "      <td>31.23291</td>\n",
       "      <td>100.48009</td>\n",
       "      <td>99.46380</td>\n",
       "      <td>99.62310</td>\n",
       "      <td>0.0</td>\n",
       "      <td>0.0</td>\n",
       "      <td>0.0</td>\n",
       "    </tr>\n",
       "    <tr>\n",
       "      <th>1</th>\n",
       "      <td>32.18783</td>\n",
       "      <td>100.49841</td>\n",
       "      <td>99.47196</td>\n",
       "      <td>99.63159</td>\n",
       "      <td>0.0</td>\n",
       "      <td>0.0</td>\n",
       "      <td>0.0</td>\n",
       "    </tr>\n",
       "    <tr>\n",
       "      <th>2</th>\n",
       "      <td>33.14274</td>\n",
       "      <td>100.49727</td>\n",
       "      <td>99.46862</td>\n",
       "      <td>99.64153</td>\n",
       "      <td>0.0</td>\n",
       "      <td>0.0</td>\n",
       "      <td>0.0</td>\n",
       "    </tr>\n",
       "    <tr>\n",
       "      <th>3</th>\n",
       "      <td>34.09766</td>\n",
       "      <td>100.49974</td>\n",
       "      <td>99.46740</td>\n",
       "      <td>99.65072</td>\n",
       "      <td>0.0</td>\n",
       "      <td>0.0</td>\n",
       "      <td>0.0</td>\n",
       "    </tr>\n",
       "    <tr>\n",
       "      <th>4</th>\n",
       "      <td>35.05257</td>\n",
       "      <td>100.50067</td>\n",
       "      <td>99.46966</td>\n",
       "      <td>99.66333</td>\n",
       "      <td>0.0</td>\n",
       "      <td>0.0</td>\n",
       "      <td>0.0</td>\n",
       "    </tr>\n",
       "  </tbody>\n",
       "</table>\n",
       "</div>"
      ],
      "text/plain": [
       "   temperature     rate_5    rate_3   rate_10  rate_3_diff  rate_5_diff  \\\n",
       "0     31.23291  100.48009  99.46380  99.62310          0.0          0.0   \n",
       "1     32.18783  100.49841  99.47196  99.63159          0.0          0.0   \n",
       "2     33.14274  100.49727  99.46862  99.64153          0.0          0.0   \n",
       "3     34.09766  100.49974  99.46740  99.65072          0.0          0.0   \n",
       "4     35.05257  100.50067  99.46966  99.66333          0.0          0.0   \n",
       "\n",
       "   rate_10_diff  \n",
       "0           0.0  \n",
       "1           0.0  \n",
       "2           0.0  \n",
       "3           0.0  \n",
       "4           0.0  "
      ]
     },
     "execution_count": 1,
     "metadata": {},
     "output_type": "execute_result"
    }
   ],
   "source": [
    "import plotly.express as px\n",
    "\n",
    "import pandas as pd\n",
    "\n",
    "# Указываем путь к файлу\n",
    "file_path = \"data/NH4_deconvoluated_TGA.csv\"\n",
    "\n",
    "# Загружаем файл в DataFrame, пропуская первую строку и указывая разделитель \n",
    "df = pd.read_csv(file_path, sep=\",\")#, skiprows=1)\n",
    "df = df.fillna(0)\n",
    "\n",
    "df.head()"
   ]
  },
  {
   "cell_type": "code",
   "execution_count": 3,
   "metadata": {},
   "outputs": [
    {
     "data": {
      "text/plain": [
       "31.23291"
      ]
     },
     "execution_count": 3,
     "metadata": {},
     "output_type": "execute_result"
    }
   ],
   "source": [
    "df['temperature'][0]"
   ]
  },
  {
   "cell_type": "code",
   "execution_count": 18,
   "metadata": {},
   "outputs": [
    {
     "data": {
      "application/vnd.plotly.v1+json": {
       "config": {
        "plotlyServerURL": "https://plot.ly"
       },
       "data": [
        {
         "hovertemplate": "index=%{x}<br>rate_10_diff=%{y}<extra></extra>",
         "legendgroup": "",
         "line": {
          "color": "#636efa",
          "dash": "solid"
         },
         "marker": {
          "symbol": "circle"
         },
         "mode": "lines",
         "name": "",
         "orientation": "v",
         "showlegend": false,
         "type": "scatter",
         "x": [
          0,
          1,
          2,
          3,
          4,
          5,
          6,
          7,
          8,
          9,
          10,
          11,
          12,
          13,
          14,
          15,
          16,
          17,
          18,
          19,
          20,
          21,
          22,
          23,
          24,
          25,
          26,
          27,
          28,
          29,
          30,
          31,
          32,
          33,
          34,
          35,
          36,
          37,
          38,
          39,
          40,
          41,
          42,
          43,
          44,
          45,
          46,
          47,
          48,
          49,
          50,
          51,
          52,
          53,
          54,
          55,
          56,
          57,
          58,
          59,
          60,
          61,
          62,
          63,
          64,
          65,
          66,
          67,
          68,
          69,
          70,
          71,
          72,
          73,
          74,
          75,
          76,
          77,
          78,
          79,
          80,
          81,
          82,
          83,
          84,
          85,
          86,
          87,
          88,
          89,
          90,
          91,
          92,
          93,
          94,
          95,
          96,
          97,
          98,
          99,
          100,
          101,
          102,
          103,
          104,
          105,
          106,
          107,
          108,
          109,
          110,
          111,
          112,
          113,
          114,
          115,
          116,
          117,
          118,
          119,
          120,
          121,
          122,
          123,
          124,
          125,
          126,
          127,
          128,
          129,
          130,
          131,
          132,
          133,
          134,
          135,
          136,
          137,
          138,
          139,
          140,
          141,
          142,
          143,
          144,
          145,
          146,
          147,
          148,
          149,
          150,
          151,
          152,
          153,
          154,
          155,
          156,
          157,
          158,
          159,
          160,
          161,
          162,
          163,
          164,
          165,
          166,
          167,
          168,
          169,
          170,
          171,
          172,
          173,
          174,
          175,
          176,
          177,
          178,
          179,
          180,
          181,
          182,
          183,
          184,
          185,
          186,
          187,
          188,
          189,
          190,
          191,
          192,
          193,
          194,
          195,
          196,
          197,
          198,
          199,
          200,
          201,
          202,
          203,
          204,
          205,
          206,
          207,
          208,
          209,
          210,
          211,
          212,
          213,
          214,
          215,
          216,
          217,
          218,
          219,
          220,
          221,
          222,
          223,
          224,
          225,
          226,
          227,
          228,
          229,
          230,
          231,
          232,
          233,
          234,
          235,
          236,
          237,
          238,
          239,
          240,
          241,
          242,
          243,
          244,
          245,
          246,
          247,
          248,
          249,
          250,
          251,
          252,
          253,
          254,
          255,
          256,
          257,
          258,
          259,
          260,
          261,
          262,
          263,
          264,
          265,
          266,
          267,
          268,
          269,
          270,
          271,
          272,
          273,
          274,
          275,
          276,
          277,
          278,
          279,
          280,
          281,
          282,
          283,
          284,
          285,
          286,
          287,
          288,
          289,
          290,
          291,
          292,
          293,
          294,
          295,
          296,
          297,
          298,
          299,
          300,
          301,
          302,
          303,
          304,
          305,
          306,
          307,
          308,
          309,
          310,
          311,
          312,
          313,
          314,
          315,
          316,
          317,
          318,
          319,
          320,
          321,
          322,
          323,
          324,
          325,
          326,
          327,
          328,
          329,
          330,
          331,
          332,
          333,
          334,
          335,
          336,
          337,
          338,
          339,
          340,
          341,
          342,
          343,
          344,
          345,
          346,
          347,
          348,
          349,
          350,
          351,
          352,
          353,
          354,
          355,
          356,
          357,
          358,
          359,
          360,
          361,
          362,
          363,
          364,
          365,
          366,
          367,
          368,
          369,
          370,
          371,
          372,
          373,
          374,
          375,
          376,
          377,
          378,
          379,
          380,
          381,
          382,
          383,
          384,
          385,
          386,
          387,
          388,
          389,
          390,
          391,
          392,
          393,
          394,
          395,
          396,
          397,
          398,
          399,
          400,
          401,
          402,
          403,
          404,
          405,
          406,
          407,
          408,
          409,
          410,
          411,
          412,
          413,
          414,
          415,
          416,
          417,
          418,
          419,
          420,
          421,
          422,
          423,
          424,
          425,
          426,
          427,
          428,
          429,
          430,
          431,
          432,
          433,
          434,
          435,
          436,
          437,
          438,
          439,
          440,
          441,
          442,
          443,
          444,
          445,
          446,
          447,
          448,
          449,
          450,
          451,
          452,
          453,
          454,
          455,
          456,
          457,
          458,
          459,
          460,
          461,
          462,
          463,
          464,
          465,
          466,
          467,
          468,
          469,
          470,
          471,
          472,
          473,
          474,
          475,
          476,
          477,
          478,
          479,
          480,
          481,
          482,
          483,
          484,
          485,
          486,
          487,
          488,
          489
         ],
         "xaxis": "x",
         "y": [
          -0.0088907971348479,
          -0.0096500815180604,
          -0.0100166024489922,
          -0.0114146472806027,
          -0.0109276980437655,
          -0.0032934307610474,
          -0.0028012455109376,
          -0.0065764901685767,
          -0.0057125479742126,
          -0.0029374028028428,
          -0.0015446232652678,
          -0.0001413423106768,
          0.0025342604851914,
          -0.0005079269573755,
          -0.0021939232397159,
          -0.0047596234924682,
          -0.0052936968489945,
          0.0001361626655338,
          -0.0027698247155214,
          -0.0051679690334012,
          0.0024137782238113,
          0.0043459075978375,
          -0.00001569148039237689,
          0.0009791718829461,
          0.0034086820537382,
          0.0021624847881298,
          -0.0017645251862674,
          -0.0066550640354066,
          0.0002931256126075,
          0.0074927946892557,
          0.00002100371130353551,
          -0.0056916064433139,
          -0.0043250069722304,
          -0.0013037640215358,
          -0.0016126888061762,
          -0.0028641221947651,
          -0.0017540873753532,
          -0.0017331428834808,
          0.0035342864954941,
          0.0069691831604288,
          0.0044506607635028,
          0.0028745877510871,
          0.0022829182482766,
          0.0006649562521729,
          -0.0026442041529293,
          -0.0039532348941193,
          -0.0065974216102304,
          -0.0094301641341871,
          -0.0051942293751423,
          4.605958281445055e-9,
          0.0034924254765087,
          0.0060057644996334,
          0.0050371020392816,
          0.0016859833417939,
          -0.0034819617845016,
          -0.0039636850972684,
          -0.0012671382481883,
          0.0002251567967874,
          -0.0008744059960434,
          -0.003513411970303,
          -0.0018064716347865,
          -0.0015708461013588,
          -0.0030735819182368,
          -0.0026180392202803,
          -0.0024085986883193,
          -0.0008534701677618,
          -0.0015708039897646,
          -0.0003036622322625,
          0.0061628141922227,
          0.0057858133387682,
          0.000890140904012,
          0.0006649876165383,
          0.0015289298108953,
          0.0015236936879361,
          -0.0015341380787887,
          -0.0037280736010458,
          -0.0019792451591342,
          -0.0015184663382115,
          -0.0009006167689236,
          0.0019216535091288,
          0.0033091970334027,
          0.0020158746611045,
          0.0009110758549653,
          -0.0041731995438638,
          -0.0046287327009082,
          0.0003927092223676,
          0.0008796584591763,
          0.0011676452222602,
          -0.0010890765096931,
          -0.0017854808640151,
          0.0008639418653686,
          0.0011048035217555,
          -0.0006440249201844,
          -0.0019687640302734,
          -0.0019687640302805,
          -0.0019792362762203,
          -0.0022043848480848,
          -0.0013142439440443,
          -0.000015712645861754027,
          -0.0002199214414773,
          -0.0028379280910826,
          -0.0011152436356383,
          0.002665157966355,
          0.0026389773515447,
          0.0021625001413099,
          0.0008901222608699,
          -7.105427357601002e-15,
          -0.0001099585822501,
          0.0002042022156842,
          0.0028798610507223,
          0.0021991793218205,
          -0.0005812019724871,
          -0.0002146810415695,
          -0.0037228834279758,
          -0.0052622713379619,
          -0.0028484186511619,
          -0.0021886809754718,
          -0.0010995673987821,
          -0.0002199171645358,
          0.0006597514935791,
          0.0035500308347167,
          0.0037228228925627,
          0.0014922812270938,
          0.0013194891692762,
          0.0010943405973904,
          0.0004345891038326,
          -0.0039479540275877,
          -0.0050423037272295,
          -0.0006545245825151,
          0.0010995766107058,
          0.0011362287037925,
          0.0010943397200762,
          0.0012776001855527,
          0.0010943358817812,
          0.0010943358817741,
          0.0010995720047475,
          0.0004398343290503,
          0,
          0,
          0,
          0,
          0,
          0,
          0,
          0.0002199125585633,
          0.0004345936001328,
          0.0003874694804224,
          0.0006597478746073,
          0.0007068719942893,
          0.000439829723092,
          0.0017331250079806,
          0.0061628850362325,
          0.0072415037758588,
          0.0054559858448612,
          0.0030840718203322,
          -0.000450311180927,
          -0.0021939036095659,
          -0.0015236798700613,
          0.0046076917032849,
          0.006817335594448,
          0.0038118639606992,
          0.0026023195558266,
          0.0025394873962412,
          0.0026494459785055,
          0.0030840350823311,
          0.0048119556607275,
          0.0048119556607346,
          0.0062833062138452,
          0.0085766800388853,
          0.0080583038653685,
          0.0069587410725375,
          0.0078541180995301,
          0.0070477720514574,
          0.003895626026626,
          0.0036861854946508,
          0.0074509579063715,
          0.0107862983779511,
          0.0102155609747853,
          0.0111999314750335,
          0.0114617376232857,
          0.0093097361572986,
          0.007487565365551,
          0.0075870496182304,
          0.0101370415021122,
          0.0120115342631947,
          0.0131948980532712,
          0.0138232196491614,
          0.011760187201034,
          0.013404295376965,
          0.0134461843607027,
          0.012456577847125,
          0.0159752524795067,
          0.0129331287526781,
          0.0139698810997117,
          0.0216563486229119,
          0.019514774330311,
          0.0151845913318666,
          0.0194153786874693,
          0.0251697573032529,
          0.0253320771151734,
          0.024871307944835,
          0.0252692532901761,
          0.0245885715612601,
          0.0277407175861057,
          0.0299555512116498,
          0.0265049461778374,
          0.0293376293726836,
          0.0317567181824429,
          0.027887304354337,
          0.0325055648093268,
          0.0381028630261397,
          0.0404748267292163,
          0.0412026325778001,
          0.0423755241219367,
          0.0468156633996272,
          0.0491509742419467,
          0.0477005985580589,
          0.0476220567135996,
          0.0521093201109934,
          0.0562668017450818,
          0.0573611285245903,
          0.0599006481625465,
          0.0646392401983035,
          0.0701424054343462,
          0.0730012686956911,
          0.0666393792934414,
          0.0640161366305349,
          0.0635029965799915,
          0.0707444029727497,
          0.0796353397670444,
          0.0814470003685414,
          0.0829864205202142,
          0.0839393749406482,
          0.086536491931227,
          0.0885418850247958,
          0.0970191681048504,
          0.0984538357488347,
          0.0958567187582843,
          0.1156383770025968,
          0.1393632501562223,
          0.1224928153062379,
          0.0998308751144918,
          0.1135125778652579,
          0.1426358937956209,
          0.1462330349321519,
          0.1324515592887394,
          0.1437508759883741,
          0.1480654413114024,
          0.1554325120233457,
          0.1603021063806338,
          0.1564379285658432,
          0.1745496779011688,
          0.1832257519379183,
          0.1857809799447594,
          0.1852940307079293,
          0.1816549252473791,
          0.197729486075886,
          0.2122859079180941,
          0.2164171224111513,
          0.2289576369119004,
          0.2335548565885901,
          0.2267426606113574,
          0.2311252037427777,
          0.2439694133754955,
          0.2652799875031704,
          0.2758936087528809,
          0.2805065364694599,
          0.2855070339008705,
          0.2927432042803488,
          0.3034510757434177,
          0.308205375819071,
          0.3261286247276658,
          0.3414125475479892,
          0.346292614151217,
          0.3542461183526697,
          0.3744156640131848,
          0.3849557587844359,
          0.3885686836301758,
          0.399920360462815,
          0.404025480867233,
          0.4091881899802132,
          0.4378821438274656,
          0.4539252885761797,
          0.4701363252752699,
          0.4749115694041279,
          0.4807289020180505,
          0.5002801756772115,
          0.5157267384234459,
          0.5371472688304237,
          0.55245245625661,
          0.5661969911669615,
          0.5753968592161556,
          0.5984248457059778,
          0.6137666859929212,
          0.6248042020276046,
          0.6476703510149946,
          0.6642789852000135,
          0.682631596191726,
          0.6980725994110344,
          0.7123881595968626,
          0.7431602097561765,
          0.7687386704393546,
          0.7861431786458368,
          0.7950393515630836,
          0.8178369534677401,
          0.8442950828089977,
          0.8533114977101945,
          0.860951001115879,
          0.8877593892077158,
          0.9188933763565644,
          0.9378948686193098,
          0.9588603049704716,
          0.969897821005148,
          0.9896432407055044,
          1.0137446099216518,
          1.0451194587268944,
          1.073676675260664,
          1.0837090868612584,
          1.2156566220007612,
          1.2449108410052396,
          1.1448715709109756,
          1.1447563762057555,
          1.155301706990311,
          1.172701343602423,
          1.1805710715910998,
          1.1986775848034732,
          1.3433067441535975,
          1.3491083683986247,
          1.2551952338644163,
          1.2811716398929072,
          1.2950889632421436,
          1.3782961932761817,
          1.40016178481358,
          1.3799503501693555,
          1.4024494993159635,
          1.4211634027922455,
          1.43592896029595,
          1.452438456004046,
          1.458093350367161,
          1.432185013937172,
          1.4560036384352166,
          1.468444666599634,
          1.453710525175726,
          1.4663295815209487,
          1.4886559422286876,
          1.5087626544136068,
          1.5029978037712048,
          1.5122447969270816,
          1.517847331157217,
          1.4743403854424866,
          1.450432748718402,
          1.438630527555686,
          1.4015124292777514,
          1.2956694396667938,
          1.2234962323508007,
          1.1812511922705973,
          1.1030670416871358,
          0.9279187285137668,
          0.7271385625431384,
          0.5492622293050964,
          0.2516681774324985,
          0.0377568459505361,
          -0.0030683497432253,
          -0.0017488467560911,
          -0.0002042228328296,
          0.0069273766452599,
          0.0200017018533316,
          0.0396895242010693,
          0.0540885607738355,
          0.0654718920993611,
          0.0813422484091992,
          0.0847038393526151,
          0.0787190761516463,
          0.087096872895362,
          0.0907097220718036,
          0.087122977840897,
          0.0897305124638938,
          0.0878978694262047,
          0.0905577641821926,
          0.0972600015771654,
          0.1019043453735468,
          0.093704576810631,
          0.0943904945528246,
          0.1013283574812149,
          0.1000978943559087,
          0.1047842244094243,
          0.1013808157649545,
          0.0968620416463097,
          0.0989826270324809,
          0.1029149553790631,
          0.1046061876747024,
          0.1018781676100268,
          0.103825964557326,
          0.1109942168961692,
          0.1080568134353261,
          0.1154659274305514,
          0.1210056295010928,
          0.1092505334450617,
          0.1094233218839311,
          0.1205134303234336,
          0.1366822393913214,
          0.1324619242816727,
          0.1117744357365864,
          0.1190945356414117,
          0.1449080812064012,
          0.1334933331430834,
          0.1284196362561718,
          0.1460287177868768,
          0.1387506593010083,
          0.1274039808362328,
          0.1291109211717671,
          0.1544747008133788,
          0.1637267363130408,
          0.1392530975754504,
          0.144436750741645,
          0.1592497426091341,
          0.1519978641897608,
          0.1304198014517181,
          0.1254874769238843,
          0.1520189119866515,
          0.1506470765022642,
          0.1453847729226156,
          0.1530817124724197,
          0.146463253044881,
          0.1453741622786506,
          0.1546159193115663,
          0.1472593206262091,
          0.1316085490843481,
          0.1390489239824919,
          0.1428032241482716,
          0.1417455494618356,
          0.1317654990908796,
          0.1126016904158571,
          0.118131036266712,
          0.1354412962338226,
          0.1186857027463833,
          0.0970033716744519,
          0.1049936953187746,
          0.1070619205719532,
          0.1003230303162238,
          0.0970086338978387,
          0.087227556199546,
          0.0696293155009802,
          0.0645083872413816,
          0.0595079945406584,
          0.0458521858483954,
          0.0367362866945117,
          0.0267562363235557,
          0.0147710018817178,
          0.0092468921538277,
          0.0068645061026978,
          0.0048224181464161,
          0.0032620861832586,
          0.0008796502342633,
          -0.0004398251171316,
          -0.0024086073519057,
          -0.0035186421713333,
          -0.0033144333757051,
          -0.0026232796202125,
          -0.0008587061810665,
          0,
          0,
          0,
          0.0002199171645226,
          0.0004398297230884,
          0.0004398297230884,
          0.0002251531778218,
          -1.0966562380421152e-10,
          0.0006440295261342,
          -0.0008744461336648,
          -0.0024033620170273,
          -0.0018535691057207,
          -0.0043825635292278,
          -0.0064770127151577,
          -0.003958490318249,
          -0.0019739997145804,
          -0.0017436151294162,
          -0.0010995720047427,
          -0.0008482433663818,
          -0.0010943411457285,
          -0.0011257572255236,
          -0.0006597422816543,
          -0.0004503017496868,
          -0.0006545105453149,
          -0.0006440385187166,
          0.0007487701899267,
          0.0017540847433705,
          0.0007854019948779,
          0,
          0
         ],
         "yaxis": "y"
        }
       ],
       "layout": {
        "legend": {
         "tracegroupgap": 0
        },
        "template": {
         "data": {
          "bar": [
           {
            "error_x": {
             "color": "#2a3f5f"
            },
            "error_y": {
             "color": "#2a3f5f"
            },
            "marker": {
             "line": {
              "color": "#E5ECF6",
              "width": 0.5
             },
             "pattern": {
              "fillmode": "overlay",
              "size": 10,
              "solidity": 0.2
             }
            },
            "type": "bar"
           }
          ],
          "barpolar": [
           {
            "marker": {
             "line": {
              "color": "#E5ECF6",
              "width": 0.5
             },
             "pattern": {
              "fillmode": "overlay",
              "size": 10,
              "solidity": 0.2
             }
            },
            "type": "barpolar"
           }
          ],
          "carpet": [
           {
            "aaxis": {
             "endlinecolor": "#2a3f5f",
             "gridcolor": "white",
             "linecolor": "white",
             "minorgridcolor": "white",
             "startlinecolor": "#2a3f5f"
            },
            "baxis": {
             "endlinecolor": "#2a3f5f",
             "gridcolor": "white",
             "linecolor": "white",
             "minorgridcolor": "white",
             "startlinecolor": "#2a3f5f"
            },
            "type": "carpet"
           }
          ],
          "choropleth": [
           {
            "colorbar": {
             "outlinewidth": 0,
             "ticks": ""
            },
            "type": "choropleth"
           }
          ],
          "contour": [
           {
            "colorbar": {
             "outlinewidth": 0,
             "ticks": ""
            },
            "colorscale": [
             [
              0,
              "#0d0887"
             ],
             [
              0.1111111111111111,
              "#46039f"
             ],
             [
              0.2222222222222222,
              "#7201a8"
             ],
             [
              0.3333333333333333,
              "#9c179e"
             ],
             [
              0.4444444444444444,
              "#bd3786"
             ],
             [
              0.5555555555555556,
              "#d8576b"
             ],
             [
              0.6666666666666666,
              "#ed7953"
             ],
             [
              0.7777777777777778,
              "#fb9f3a"
             ],
             [
              0.8888888888888888,
              "#fdca26"
             ],
             [
              1,
              "#f0f921"
             ]
            ],
            "type": "contour"
           }
          ],
          "contourcarpet": [
           {
            "colorbar": {
             "outlinewidth": 0,
             "ticks": ""
            },
            "type": "contourcarpet"
           }
          ],
          "heatmap": [
           {
            "colorbar": {
             "outlinewidth": 0,
             "ticks": ""
            },
            "colorscale": [
             [
              0,
              "#0d0887"
             ],
             [
              0.1111111111111111,
              "#46039f"
             ],
             [
              0.2222222222222222,
              "#7201a8"
             ],
             [
              0.3333333333333333,
              "#9c179e"
             ],
             [
              0.4444444444444444,
              "#bd3786"
             ],
             [
              0.5555555555555556,
              "#d8576b"
             ],
             [
              0.6666666666666666,
              "#ed7953"
             ],
             [
              0.7777777777777778,
              "#fb9f3a"
             ],
             [
              0.8888888888888888,
              "#fdca26"
             ],
             [
              1,
              "#f0f921"
             ]
            ],
            "type": "heatmap"
           }
          ],
          "heatmapgl": [
           {
            "colorbar": {
             "outlinewidth": 0,
             "ticks": ""
            },
            "colorscale": [
             [
              0,
              "#0d0887"
             ],
             [
              0.1111111111111111,
              "#46039f"
             ],
             [
              0.2222222222222222,
              "#7201a8"
             ],
             [
              0.3333333333333333,
              "#9c179e"
             ],
             [
              0.4444444444444444,
              "#bd3786"
             ],
             [
              0.5555555555555556,
              "#d8576b"
             ],
             [
              0.6666666666666666,
              "#ed7953"
             ],
             [
              0.7777777777777778,
              "#fb9f3a"
             ],
             [
              0.8888888888888888,
              "#fdca26"
             ],
             [
              1,
              "#f0f921"
             ]
            ],
            "type": "heatmapgl"
           }
          ],
          "histogram": [
           {
            "marker": {
             "pattern": {
              "fillmode": "overlay",
              "size": 10,
              "solidity": 0.2
             }
            },
            "type": "histogram"
           }
          ],
          "histogram2d": [
           {
            "colorbar": {
             "outlinewidth": 0,
             "ticks": ""
            },
            "colorscale": [
             [
              0,
              "#0d0887"
             ],
             [
              0.1111111111111111,
              "#46039f"
             ],
             [
              0.2222222222222222,
              "#7201a8"
             ],
             [
              0.3333333333333333,
              "#9c179e"
             ],
             [
              0.4444444444444444,
              "#bd3786"
             ],
             [
              0.5555555555555556,
              "#d8576b"
             ],
             [
              0.6666666666666666,
              "#ed7953"
             ],
             [
              0.7777777777777778,
              "#fb9f3a"
             ],
             [
              0.8888888888888888,
              "#fdca26"
             ],
             [
              1,
              "#f0f921"
             ]
            ],
            "type": "histogram2d"
           }
          ],
          "histogram2dcontour": [
           {
            "colorbar": {
             "outlinewidth": 0,
             "ticks": ""
            },
            "colorscale": [
             [
              0,
              "#0d0887"
             ],
             [
              0.1111111111111111,
              "#46039f"
             ],
             [
              0.2222222222222222,
              "#7201a8"
             ],
             [
              0.3333333333333333,
              "#9c179e"
             ],
             [
              0.4444444444444444,
              "#bd3786"
             ],
             [
              0.5555555555555556,
              "#d8576b"
             ],
             [
              0.6666666666666666,
              "#ed7953"
             ],
             [
              0.7777777777777778,
              "#fb9f3a"
             ],
             [
              0.8888888888888888,
              "#fdca26"
             ],
             [
              1,
              "#f0f921"
             ]
            ],
            "type": "histogram2dcontour"
           }
          ],
          "mesh3d": [
           {
            "colorbar": {
             "outlinewidth": 0,
             "ticks": ""
            },
            "type": "mesh3d"
           }
          ],
          "parcoords": [
           {
            "line": {
             "colorbar": {
              "outlinewidth": 0,
              "ticks": ""
             }
            },
            "type": "parcoords"
           }
          ],
          "pie": [
           {
            "automargin": true,
            "type": "pie"
           }
          ],
          "scatter": [
           {
            "fillpattern": {
             "fillmode": "overlay",
             "size": 10,
             "solidity": 0.2
            },
            "type": "scatter"
           }
          ],
          "scatter3d": [
           {
            "line": {
             "colorbar": {
              "outlinewidth": 0,
              "ticks": ""
             }
            },
            "marker": {
             "colorbar": {
              "outlinewidth": 0,
              "ticks": ""
             }
            },
            "type": "scatter3d"
           }
          ],
          "scattercarpet": [
           {
            "marker": {
             "colorbar": {
              "outlinewidth": 0,
              "ticks": ""
             }
            },
            "type": "scattercarpet"
           }
          ],
          "scattergeo": [
           {
            "marker": {
             "colorbar": {
              "outlinewidth": 0,
              "ticks": ""
             }
            },
            "type": "scattergeo"
           }
          ],
          "scattergl": [
           {
            "marker": {
             "colorbar": {
              "outlinewidth": 0,
              "ticks": ""
             }
            },
            "type": "scattergl"
           }
          ],
          "scattermapbox": [
           {
            "marker": {
             "colorbar": {
              "outlinewidth": 0,
              "ticks": ""
             }
            },
            "type": "scattermapbox"
           }
          ],
          "scatterpolar": [
           {
            "marker": {
             "colorbar": {
              "outlinewidth": 0,
              "ticks": ""
             }
            },
            "type": "scatterpolar"
           }
          ],
          "scatterpolargl": [
           {
            "marker": {
             "colorbar": {
              "outlinewidth": 0,
              "ticks": ""
             }
            },
            "type": "scatterpolargl"
           }
          ],
          "scatterternary": [
           {
            "marker": {
             "colorbar": {
              "outlinewidth": 0,
              "ticks": ""
             }
            },
            "type": "scatterternary"
           }
          ],
          "surface": [
           {
            "colorbar": {
             "outlinewidth": 0,
             "ticks": ""
            },
            "colorscale": [
             [
              0,
              "#0d0887"
             ],
             [
              0.1111111111111111,
              "#46039f"
             ],
             [
              0.2222222222222222,
              "#7201a8"
             ],
             [
              0.3333333333333333,
              "#9c179e"
             ],
             [
              0.4444444444444444,
              "#bd3786"
             ],
             [
              0.5555555555555556,
              "#d8576b"
             ],
             [
              0.6666666666666666,
              "#ed7953"
             ],
             [
              0.7777777777777778,
              "#fb9f3a"
             ],
             [
              0.8888888888888888,
              "#fdca26"
             ],
             [
              1,
              "#f0f921"
             ]
            ],
            "type": "surface"
           }
          ],
          "table": [
           {
            "cells": {
             "fill": {
              "color": "#EBF0F8"
             },
             "line": {
              "color": "white"
             }
            },
            "header": {
             "fill": {
              "color": "#C8D4E3"
             },
             "line": {
              "color": "white"
             }
            },
            "type": "table"
           }
          ]
         },
         "layout": {
          "annotationdefaults": {
           "arrowcolor": "#2a3f5f",
           "arrowhead": 0,
           "arrowwidth": 1
          },
          "autotypenumbers": "strict",
          "coloraxis": {
           "colorbar": {
            "outlinewidth": 0,
            "ticks": ""
           }
          },
          "colorscale": {
           "diverging": [
            [
             0,
             "#8e0152"
            ],
            [
             0.1,
             "#c51b7d"
            ],
            [
             0.2,
             "#de77ae"
            ],
            [
             0.3,
             "#f1b6da"
            ],
            [
             0.4,
             "#fde0ef"
            ],
            [
             0.5,
             "#f7f7f7"
            ],
            [
             0.6,
             "#e6f5d0"
            ],
            [
             0.7,
             "#b8e186"
            ],
            [
             0.8,
             "#7fbc41"
            ],
            [
             0.9,
             "#4d9221"
            ],
            [
             1,
             "#276419"
            ]
           ],
           "sequential": [
            [
             0,
             "#0d0887"
            ],
            [
             0.1111111111111111,
             "#46039f"
            ],
            [
             0.2222222222222222,
             "#7201a8"
            ],
            [
             0.3333333333333333,
             "#9c179e"
            ],
            [
             0.4444444444444444,
             "#bd3786"
            ],
            [
             0.5555555555555556,
             "#d8576b"
            ],
            [
             0.6666666666666666,
             "#ed7953"
            ],
            [
             0.7777777777777778,
             "#fb9f3a"
            ],
            [
             0.8888888888888888,
             "#fdca26"
            ],
            [
             1,
             "#f0f921"
            ]
           ],
           "sequentialminus": [
            [
             0,
             "#0d0887"
            ],
            [
             0.1111111111111111,
             "#46039f"
            ],
            [
             0.2222222222222222,
             "#7201a8"
            ],
            [
             0.3333333333333333,
             "#9c179e"
            ],
            [
             0.4444444444444444,
             "#bd3786"
            ],
            [
             0.5555555555555556,
             "#d8576b"
            ],
            [
             0.6666666666666666,
             "#ed7953"
            ],
            [
             0.7777777777777778,
             "#fb9f3a"
            ],
            [
             0.8888888888888888,
             "#fdca26"
            ],
            [
             1,
             "#f0f921"
            ]
           ]
          },
          "colorway": [
           "#636efa",
           "#EF553B",
           "#00cc96",
           "#ab63fa",
           "#FFA15A",
           "#19d3f3",
           "#FF6692",
           "#B6E880",
           "#FF97FF",
           "#FECB52"
          ],
          "font": {
           "color": "#2a3f5f"
          },
          "geo": {
           "bgcolor": "white",
           "lakecolor": "white",
           "landcolor": "#E5ECF6",
           "showlakes": true,
           "showland": true,
           "subunitcolor": "white"
          },
          "hoverlabel": {
           "align": "left"
          },
          "hovermode": "closest",
          "mapbox": {
           "style": "light"
          },
          "paper_bgcolor": "white",
          "plot_bgcolor": "#E5ECF6",
          "polar": {
           "angularaxis": {
            "gridcolor": "white",
            "linecolor": "white",
            "ticks": ""
           },
           "bgcolor": "#E5ECF6",
           "radialaxis": {
            "gridcolor": "white",
            "linecolor": "white",
            "ticks": ""
           }
          },
          "scene": {
           "xaxis": {
            "backgroundcolor": "#E5ECF6",
            "gridcolor": "white",
            "gridwidth": 2,
            "linecolor": "white",
            "showbackground": true,
            "ticks": "",
            "zerolinecolor": "white"
           },
           "yaxis": {
            "backgroundcolor": "#E5ECF6",
            "gridcolor": "white",
            "gridwidth": 2,
            "linecolor": "white",
            "showbackground": true,
            "ticks": "",
            "zerolinecolor": "white"
           },
           "zaxis": {
            "backgroundcolor": "#E5ECF6",
            "gridcolor": "white",
            "gridwidth": 2,
            "linecolor": "white",
            "showbackground": true,
            "ticks": "",
            "zerolinecolor": "white"
           }
          },
          "shapedefaults": {
           "line": {
            "color": "#2a3f5f"
           }
          },
          "ternary": {
           "aaxis": {
            "gridcolor": "white",
            "linecolor": "white",
            "ticks": ""
           },
           "baxis": {
            "gridcolor": "white",
            "linecolor": "white",
            "ticks": ""
           },
           "bgcolor": "#E5ECF6",
           "caxis": {
            "gridcolor": "white",
            "linecolor": "white",
            "ticks": ""
           }
          },
          "title": {
           "x": 0.05
          },
          "xaxis": {
           "automargin": true,
           "gridcolor": "white",
           "linecolor": "white",
           "ticks": "",
           "title": {
            "standoff": 15
           },
           "zerolinecolor": "white",
           "zerolinewidth": 2
          },
          "yaxis": {
           "automargin": true,
           "gridcolor": "white",
           "linecolor": "white",
           "ticks": "",
           "title": {
            "standoff": 15
           },
           "zerolinecolor": "white",
           "zerolinewidth": 2
          }
         }
        },
        "title": {
         "text": "График rate_10_diff"
        },
        "xaxis": {
         "anchor": "y",
         "domain": [
          0,
          1
         ],
         "title": {
          "text": "index"
         }
        },
        "yaxis": {
         "anchor": "x",
         "domain": [
          0,
          1
         ],
         "title": {
          "text": "rate_10_diff"
         }
        }
       }
      }
     },
     "metadata": {},
     "output_type": "display_data"
    }
   ],
   "source": [
    "# Построение графика\n",
    "fig = px.line(df, x=df.index, y='rate_10_diff', title='График rate_10_diff')\n",
    "fig.show()"
   ]
  },
  {
   "cell_type": "code",
   "execution_count": 20,
   "metadata": {},
   "outputs": [
    {
     "data": {
      "text/plain": [
       "<Axes: >"
      ]
     },
     "execution_count": 20,
     "metadata": {},
     "output_type": "execute_result"
    },
    {
     "data": {
      "image/png": "[encoded data removed]",
      "text/plain": [
       "<Figure size 640x480 with 1 Axes>"
      ]
     },
     "metadata": {},
     "output_type": "display_data"
    }
   ],
   "source": [
    "df['rate_3_diff'].iloc[:313] = 0\n",
    "df['rate_5_diff'].iloc[:334] = 0\n",
    "df['rate_10_diff'].iloc[:363] = 0\n",
    "df['rate_10_diff'].plot()"
   ]
  },
  {
   "cell_type": "code",
   "execution_count": 26,
   "metadata": {},
   "outputs": [],
   "source": [
    "# Сохраняем DataFrame в CSV-файл\n",
    "df.to_csv(\"data/NH4_deconvoluated_TGA.csv\", index=False, sep=',')"
   ]
  }
 ],
 "metadata": {
  "kernelspec": {
   "display_name": "Python 3",
   "language": "python",
   "name": "python3"
  },
  "language_info": {
   "codemirror_mode": {
    "name": "ipython",
    "version": 3
   },
   "file_extension": ".py",
   "mimetype": "text/x-python",
   "name": "python",
   "nbconvert_exporter": "python",
   "pygments_lexer": "ipython3",
   "version": "3.9.13"
  },
  "orig_nbformat": 4
 },
 "nbformat": 4,
 "nbformat_minor": 2
}
